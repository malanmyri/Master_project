{
 "cells": [
  {
   "cell_type": "code",
   "execution_count": 8,
   "metadata": {},
   "outputs": [],
   "source": [
    "import torch\n",
    "import torch.nn as nn\n",
    "\n",
    "numbers = torch.tensor([[1, 1,1,2,2,2, 3,3,3, 4,4,4]]).unsqueeze(2).float()  # Shape: (1, 12, 1)\n"
   ]
  },
  {
   "cell_type": "code",
   "execution_count": 9,
   "metadata": {},
   "outputs": [
    {
     "data": {
      "text/plain": [
       "tensor([[[1.],\n",
       "         [1.],\n",
       "         [1.],\n",
       "         [2.],\n",
       "         [2.],\n",
       "         [2.],\n",
       "         [3.],\n",
       "         [3.],\n",
       "         [3.],\n",
       "         [4.],\n",
       "         [4.],\n",
       "         [4.]]])"
      ]
     },
     "execution_count": 9,
     "metadata": {},
     "output_type": "execute_result"
    }
   ],
   "source": [
    "numbers"
   ]
  },
  {
   "cell_type": "code",
   "execution_count": 15,
   "metadata": {},
   "outputs": [],
   "source": [
    "conv_layer = nn.Conv1d(in_channels=12, out_channels=4*3, kernel_size=1, groups=4)\n",
    "nn.init.constant_(conv_layer.weight, 1)\n",
    "nn.init.constant_(conv_layer.bias, 0)\n",
    "output = conv_layer(numbers)\n"
   ]
  },
  {
   "cell_type": "code",
   "execution_count": 16,
   "metadata": {},
   "outputs": [
    {
     "data": {
      "text/plain": [
       "tensor([[[ 3.],\n",
       "         [ 3.],\n",
       "         [ 3.],\n",
       "         [ 6.],\n",
       "         [ 6.],\n",
       "         [ 6.],\n",
       "         [ 9.],\n",
       "         [ 9.],\n",
       "         [ 9.],\n",
       "         [12.],\n",
       "         [12.],\n",
       "         [12.]]], grad_fn=<ConvolutionBackward0>)"
      ]
     },
     "execution_count": 16,
     "metadata": {},
     "output_type": "execute_result"
    }
   ],
   "source": [
    "output"
   ]
  },
  {
   "cell_type": "code",
   "execution_count": null,
   "metadata": {},
   "outputs": [],
   "source": []
  }
 ],
 "metadata": {
  "kernelspec": {
   "display_name": "Python 3",
   "language": "python",
   "name": "python3"
  },
  "language_info": {
   "codemirror_mode": {
    "name": "ipython",
    "version": 3
   },
   "file_extension": ".py",
   "mimetype": "text/x-python",
   "name": "python",
   "nbconvert_exporter": "python",
   "pygments_lexer": "ipython3",
   "version": "3.12.0"
  }
 },
 "nbformat": 4,
 "nbformat_minor": 2
}
