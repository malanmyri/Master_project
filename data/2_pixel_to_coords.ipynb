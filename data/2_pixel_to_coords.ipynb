{
 "cells": [
  {
   "cell_type": "markdown",
   "metadata": {},
   "source": [
    "### This script calculates the real coordinates for the different squares"
   ]
  },
  {
   "cell_type": "code",
   "execution_count": 4,
   "metadata": {},
   "outputs": [],
   "source": [
    "# section 1, sample 1\n",
    "data_name = r\"data\\finger\\section_1\\sample_1.txt\"\n",
    "x_pixel_1, y_pixel_1 =  31,194\n",
    "x_real_1, y_real_1 = 49.9, 49\n",
    "x_pixel_2, y_pixel_2 = 279,441\n",
    "x_real_2, y_real_2 = 40, 59\n",
    "x_pixel_3, y_pixel_3 = 524,190\n",
    "x_real_3, y_real_3 = 30, 49\n",
    "x_pixel_4, y_pixel_4 = 777,436\n",
    "x_real_4, y_real_4 = 20,59\n",
    "height = 720\n",
    "command = f\"python pixels_to_coords.py --data_name {data_name} --height {height} --x_pixel_1 {x_pixel_1} --y_pixel_1 {y_pixel_1} --x_pixel_2 {x_pixel_2} --y_pixel_2 {y_pixel_2} --x_pixel_3 {x_pixel_3} --y_pixel_3 {y_pixel_3} --x_pixel_4 {x_pixel_4} --y_pixel_4 {y_pixel_4} --x_real_1 {x_real_1} --y_real_1 {y_real_1} --x_real_2 {x_real_2} --y_real_2 {y_real_2} --x_real_3 {x_real_3} --y_real_3 {y_real_3} --x_real_4 {x_real_4} --y_real_4 {y_real_4}\"\n",
    "!{command}\n",
    "\n",
    "# section 1, sample 2\n",
    "data_name = r\"data\\finger\\section_1\\sample_2.txt\"\n",
    "command = f\"python pixels_to_coords.py --data_name {data_name} --height {height} --x_pixel_1 {x_pixel_1} --y_pixel_1 {y_pixel_1} --x_pixel_2 {x_pixel_2} --y_pixel_2 {y_pixel_2} --x_pixel_3 {x_pixel_3} --y_pixel_3 {y_pixel_3} --x_pixel_4 {x_pixel_4} --y_pixel_4 {y_pixel_4} --x_real_1 {x_real_1} --y_real_1 {y_real_1} --x_real_2 {x_real_2} --y_real_2 {y_real_2} --x_real_3 {x_real_3} --y_real_3 {y_real_3} --x_real_4 {x_real_4} --y_real_4 {y_real_4}\"\n",
    "!{command}"
   ]
  },
  {
   "cell_type": "code",
   "execution_count": 8,
   "metadata": {},
   "outputs": [],
   "source": [
    "# section 2, sample 1\n",
    "data_name = r\"data\\finger\\section_2\\sample_1.txt\"\n",
    "x_pixel_1, y_pixel_1 = 1026,685\n",
    "x_real_1, y_real_1 = 10, 49\n",
    "x_pixel_2, y_pixel_2 = 772, 340\n",
    "x_real_2, y_real_2 =20, 35\n",
    "x_pixel_3, y_pixel_3 = 28,3\n",
    "x_real_3, y_real_3 = 50, 21.1\n",
    "x_pixel_4, y_pixel_4 =278,691\n",
    "x_real_4, y_real_4 =40, 49\n",
    "height = 720\n",
    "command = f\"python pixels_to_coords.py --data_name {data_name} --height {height} --x_pixel_1 {x_pixel_1} --y_pixel_1 {y_pixel_1} --x_pixel_2 {x_pixel_2} --y_pixel_2 {y_pixel_2} --x_pixel_3 {x_pixel_3} --y_pixel_3 {y_pixel_3} --x_pixel_4 {x_pixel_4} --y_pixel_4 {y_pixel_4} --x_real_1 {x_real_1} --y_real_1 {y_real_1} --x_real_2 {x_real_2} --y_real_2 {y_real_2} --x_real_3 {x_real_3} --y_real_3 {y_real_3} --x_real_4 {x_real_4} --y_real_4 {y_real_4}\"\n",
    "!{command}\n",
    "\n",
    "# section 2, sample 2\n",
    "data_name = r\"data\\finger\\section_2\\sample_2.txt\"\n",
    "command = f\"python pixels_to_coords.py --data_name {data_name} --height {height} --x_pixel_1 {x_pixel_1} --y_pixel_1 {y_pixel_1} --x_pixel_2 {x_pixel_2} --y_pixel_2 {y_pixel_2} --x_pixel_3 {x_pixel_3} --y_pixel_3 {y_pixel_3} --x_pixel_4 {x_pixel_4} --y_pixel_4 {y_pixel_4} --x_real_1 {x_real_1} --y_real_1 {y_real_1} --x_real_2 {x_real_2} --y_real_2 {y_real_2} --x_real_3 {x_real_3} --y_real_3 {y_real_3} --x_real_4 {x_real_4} --y_real_4 {y_real_4}\"\n",
    "!{command}"
   ]
  },
  {
   "cell_type": "code",
   "execution_count": 9,
   "metadata": {},
   "outputs": [],
   "source": [
    "# section 3, sample 1\n",
    "data_name = r\"data\\finger\\section_3\\sample_1.txt\"\n",
    "x_pixel_1, y_pixel_1 = 312,11\n",
    "x_real_1, y_real_1 =40, 0 \n",
    "x_pixel_2, y_pixel_2 = 1057,7\n",
    "x_real_2, y_real_2 =10,0\n",
    "x_pixel_3, y_pixel_3 = 812,532\n",
    "x_real_3, y_real_3 = 20, 21.1\n",
    "x_pixel_4, y_pixel_4 =68, 537\n",
    "x_real_4, y_real_4 =49.9, 21.1\n",
    "height = 720\n",
    "command = f\"python pixels_to_coords.py --data_name {data_name} --height {height} --x_pixel_1 {x_pixel_1} --y_pixel_1 {y_pixel_1} --x_pixel_2 {x_pixel_2} --y_pixel_2 {y_pixel_2} --x_pixel_3 {x_pixel_3} --y_pixel_3 {y_pixel_3} --x_pixel_4 {x_pixel_4} --y_pixel_4 {y_pixel_4} --x_real_1 {x_real_1} --y_real_1 {y_real_1} --x_real_2 {x_real_2} --y_real_2 {y_real_2} --x_real_3 {x_real_3} --y_real_3 {y_real_3} --x_real_4 {x_real_4} --y_real_4 {y_real_4}\"\n",
    "!{command}\n",
    "\n",
    "# section 3, sample 2\n",
    "data_name = r\"data\\finger\\section_3\\sample_2.txt\"\n",
    "command = f\"python pixels_to_coords.py --data_name {data_name} --height {height} --x_pixel_1 {x_pixel_1} --y_pixel_1 {y_pixel_1} --x_pixel_2 {x_pixel_2} --y_pixel_2 {y_pixel_2} --x_pixel_3 {x_pixel_3} --y_pixel_3 {y_pixel_3} --x_pixel_4 {x_pixel_4} --y_pixel_4 {y_pixel_4} --x_real_1 {x_real_1} --y_real_1 {y_real_1} --x_real_2 {x_real_2} --y_real_2 {y_real_2} --x_real_3 {x_real_3} --y_real_3 {y_real_3} --x_real_4 {x_real_4} --y_real_4 {y_real_4}\"\n",
    "!{command}"
   ]
  },
  {
   "cell_type": "code",
   "execution_count": 11,
   "metadata": {},
   "outputs": [],
   "source": [
    "# section 4, sample 1\n",
    "data_name = r\"data\\finger\\section_4\\sample_1.txt\"\n",
    "x_pixel_1, y_pixel_1 = 80, 504\n",
    "x_real_1, y_real_1 =49.9, 49\n",
    "x_pixel_2, y_pixel_2 = 326, 265\n",
    "x_real_2, y_real_2 =59.8, 59\n",
    "x_pixel_3, y_pixel_3 = 568, 267\n",
    "x_real_3, y_real_3 = 69.8, 59\n",
    "x_pixel_4, y_pixel_4 =1058,517\n",
    "x_real_4, y_real_4 =89.9, 49\n",
    "height = 720\n",
    "command = f\"python pixels_to_coords.py --data_name {data_name} --height {height} --x_pixel_1 {x_pixel_1} --y_pixel_1 {y_pixel_1} --x_pixel_2 {x_pixel_2} --y_pixel_2 {y_pixel_2} --x_pixel_3 {x_pixel_3} --y_pixel_3 {y_pixel_3} --x_pixel_4 {x_pixel_4} --y_pixel_4 {y_pixel_4} --x_real_1 {x_real_1} --y_real_1 {y_real_1} --x_real_2 {x_real_2} --y_real_2 {y_real_2} --x_real_3 {x_real_3} --y_real_3 {y_real_3} --x_real_4 {x_real_4} --y_real_4 {y_real_4}\"\n",
    "!{command}\n",
    "\n",
    "# section 4, sample 2\n",
    "data_name = r\"data\\finger\\section_4\\sample_2.txt\"\n",
    "command = f\"python pixels_to_coords.py --data_name {data_name} --height {height} --x_pixel_1 {x_pixel_1} --y_pixel_1 {y_pixel_1} --x_pixel_2 {x_pixel_2} --y_pixel_2 {y_pixel_2} --x_pixel_3 {x_pixel_3} --y_pixel_3 {y_pixel_3} --x_pixel_4 {x_pixel_4} --y_pixel_4 {y_pixel_4} --x_real_1 {x_real_1} --y_real_1 {y_real_1} --x_real_2 {x_real_2} --y_real_2 {y_real_2} --x_real_3 {x_real_3} --y_real_3 {y_real_3} --x_real_4 {x_real_4} --y_real_4 {y_real_4}\"\n",
    "!{command}"
   ]
  },
  {
   "cell_type": "code",
   "execution_count": 7,
   "metadata": {},
   "outputs": [],
   "source": [
    "# section 5, sample 1\n",
    "data_name = r\"data\\finger\\section_5\\sample_1.txt\"\n",
    "x_pixel_1, y_pixel_1 = 892,21\n",
    "x_real_1, y_real_1 = 89.9, 49\n",
    "x_pixel_2, y_pixel_2 = 651, 705\n",
    "x_real_2, y_real_2 = 79.9, 21.1\n",
    "x_pixel_3, y_pixel_3 = 405, 364\n",
    "x_real_3, y_real_3 = 69.8, 35\n",
    "x_pixel_4, y_pixel_4 = 159, 24\n",
    "x_real_4, y_real_4 = 59.8, 49\n",
    "height = 720\n",
    "\n",
    "command = f\"python pixels_to_coords.py --data_name {data_name} --height {height} --x_pixel_1 {x_pixel_1} --y_pixel_1 {y_pixel_1} --x_pixel_2 {x_pixel_2} --y_pixel_2 {y_pixel_2} --x_pixel_3 {x_pixel_3} --y_pixel_3 {y_pixel_3} --x_pixel_4 {x_pixel_4} --y_pixel_4 {y_pixel_4} --x_real_1 {x_real_1} --y_real_1 {y_real_1} --x_real_2 {x_real_2} --y_real_2 {y_real_2} --x_real_3 {x_real_3} --y_real_3 {y_real_3} --x_real_4 {x_real_4} --y_real_4 {y_real_4}\"\n",
    "!{command}\n",
    "\n",
    "data_name = r\"data\\finger\\section_5\\sample_2.txt\"\n",
    "command = f\"python pixels_to_coords.py --data_name {data_name} --height {height} --x_pixel_1 {x_pixel_1} --y_pixel_1 {y_pixel_1} --x_pixel_2 {x_pixel_2} --y_pixel_2 {y_pixel_2} --x_pixel_3 {x_pixel_3} --y_pixel_3 {y_pixel_3} --x_pixel_4 {x_pixel_4} --y_pixel_4 {y_pixel_4} --x_real_1 {x_real_1} --y_real_1 {y_real_1} --x_real_2 {x_real_2} --y_real_2 {y_real_2} --x_real_3 {x_real_3} --y_real_3 {y_real_3} --x_real_4 {x_real_4} --y_real_4 {y_real_4}\"\n",
    "!{command}\n",
    "\n",
    "data_name = r\"data\\finger\\section_5\\sample_3.txt\"\n",
    "command = f\"python pixels_to_coords.py --data_name {data_name} --height {height} --x_pixel_1 {x_pixel_1} --y_pixel_1 {y_pixel_1} --x_pixel_2 {x_pixel_2} --y_pixel_2 {y_pixel_2} --x_pixel_3 {x_pixel_3} --y_pixel_3 {y_pixel_3} --x_pixel_4 {x_pixel_4} --y_pixel_4 {y_pixel_4} --x_real_1 {x_real_1} --y_real_1 {y_real_1} --x_real_2 {x_real_2} --y_real_2 {y_real_2} --x_real_3 {x_real_3} --y_real_3 {y_real_3} --x_real_4 {x_real_4} --y_real_4 {y_real_4}\"\n",
    "!{command}\n"
   ]
  },
  {
   "cell_type": "code",
   "execution_count": 18,
   "metadata": {},
   "outputs": [],
   "source": [
    "# section 6, sample 1\n",
    "data_name = r\"data\\finger\\section_6\\sample_1.txt\"\n",
    "x_pixel_1, y_pixel_1 = 310,210\n",
    "x_real_1,  y_real_1 = 59.8, 21.1\n",
    "x_pixel_2, y_pixel_2 = 311,461\n",
    "x_real_2,  y_real_2 = 59.8 , 11.1\n",
    "x_pixel_3, y_pixel_3 = 560,459\n",
    "x_real_3,  y_real_3 = 69.8 , 11.1\n",
    "x_pixel_4, y_pixel_4 =801,205\n",
    "x_real_4,  y_real_4 = 79.9, 21.1\n",
    "height = 720\n",
    "command = f\"python pixels_to_coords.py --data_name {data_name} --height {height} --x_pixel_1 {x_pixel_1} --y_pixel_1 {y_pixel_1} --x_pixel_2 {x_pixel_2} --y_pixel_2 {y_pixel_2} --x_pixel_3 {x_pixel_3} --y_pixel_3 {y_pixel_3} --x_pixel_4 {x_pixel_4} --y_pixel_4 {y_pixel_4} --x_real_1 {x_real_1} --y_real_1 {y_real_1} --x_real_2 {x_real_2} --y_real_2 {y_real_2} --x_real_3 {x_real_3} --y_real_3 {y_real_3} --x_real_4 {x_real_4} --y_real_4 {y_real_4}\"\n",
    "!{command}\n",
    "\n",
    "# section 6, sample 2\n",
    "data_name = r\"data\\finger\\section_6\\sample_2.txt\"\n",
    "command = f\"python pixels_to_coords.py --data_name {data_name} --height {height} --x_pixel_1 {x_pixel_1} --y_pixel_1 {y_pixel_1} --x_pixel_2 {x_pixel_2} --y_pixel_2 {y_pixel_2} --x_pixel_3 {x_pixel_3} --y_pixel_3 {y_pixel_3} --x_pixel_4 {x_pixel_4} --y_pixel_4 {y_pixel_4} --x_real_1 {x_real_1} --y_real_1 {y_real_1} --x_real_2 {x_real_2} --y_real_2 {y_real_2} --x_real_3 {x_real_3} --y_real_3 {y_real_3} --x_real_4 {x_real_4} --y_real_4 {y_real_4}\"\n",
    "!{command}"
   ]
  }
 ],
 "metadata": {
  "kernelspec": {
   "display_name": "Python 3",
   "language": "python",
   "name": "python3"
  },
  "language_info": {
   "codemirror_mode": {
    "name": "ipython",
    "version": 3
   },
   "file_extension": ".py",
   "mimetype": "text/x-python",
   "name": "python",
   "nbconvert_exporter": "python",
   "pygments_lexer": "ipython3",
   "version": "3.12.0"
  }
 },
 "nbformat": 4,
 "nbformat_minor": 2
}
