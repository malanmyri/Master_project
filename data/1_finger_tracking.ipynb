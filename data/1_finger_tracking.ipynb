{
 "cells": [
  {
   "cell_type": "markdown",
   "metadata": {},
   "source": [
    "### In this Notebook the finger coordinates are collected from the different videos"
   ]
  },
  {
   "cell_type": "code",
   "execution_count": 4,
   "metadata": {},
   "outputs": [
    {
     "name": "stdout",
     "output_type": "stream",
     "text": [
      "Select a ROI and then press SPACE or ENTER button!\n",
      "Cancel the selection process by pressing c button!\n",
      "Select a ROI and then press SPACE or ENTER button!\n",
      "Cancel the selection process by pressing c button!\n"
     ]
    }
   ],
   "source": [
    "# section_1\n",
    "!python finger_tracking.py --fps 120 --video_in \"data\\finger\\section_1\\sample_1.MOV\" --start_time \"12:23:43.169\"\n",
    "!python finger_tracking.py --fps 120 --video_in \"data\\finger\\section_1\\sample_2.MOV\" --start_time \"12:26:33.558\""
   ]
  },
  {
   "cell_type": "code",
   "execution_count": 9,
   "metadata": {},
   "outputs": [
    {
     "name": "stdout",
     "output_type": "stream",
     "text": [
      "Select a ROI and then press SPACE or ENTER button!\n",
      "Cancel the selection process by pressing c button!\n",
      "Select a ROI and then press SPACE or ENTER button!\n",
      "Cancel the selection process by pressing c button!\n"
     ]
    }
   ],
   "source": [
    "# section_2\n",
    "!python finger_tracking.py --fps 120 --video_in \"data\\finger\\section_2\\sample_1.MOV\" --start_time \"12:30:40.422\"\n",
    "!python finger_tracking.py --fps 120 --video_in \"data\\finger\\section_2\\sample_2.MOV\" --start_time \"12:32:49.696\""
   ]
  },
  {
   "cell_type": "code",
   "execution_count": 11,
   "metadata": {},
   "outputs": [
    {
     "name": "stdout",
     "output_type": "stream",
     "text": [
      "Select a ROI and then press SPACE or ENTER button!\n",
      "Cancel the selection process by pressing c button!\n",
      "Select a ROI and then press SPACE or ENTER button!\n",
      "Cancel the selection process by pressing c button!\n"
     ]
    }
   ],
   "source": [
    "# section_3\n",
    "!python finger_tracking.py --fps 120 --video_in \"data\\finger\\section_3\\sample_1.MOV\" --start_time \"12:35:48.351\"\n",
    "!python finger_tracking.py --fps 120 --video_in \"data\\finger\\section_3\\sample_2.MOV\" --start_time \"12:39:33.959\""
   ]
  },
  {
   "cell_type": "code",
   "execution_count": 13,
   "metadata": {},
   "outputs": [
    {
     "name": "stdout",
     "output_type": "stream",
     "text": [
      "Select a ROI and then press SPACE or ENTER button!\n",
      "Cancel the selection process by pressing c button!\n",
      "Select a ROI and then press SPACE or ENTER button!\n",
      "Cancel the selection process by pressing c button!\n"
     ]
    }
   ],
   "source": [
    "# section_4\n",
    "!python finger_tracking.py --fps 120 --video_in \"data\\finger\\section_4\\sample_1.MOV\" --start_time \"12:46:17.040\"\n",
    "!python finger_tracking.py --fps 120 --video_in \"data\\finger\\section_4\\sample_2.MOV\" --start_time \"12:48:58.469\""
   ]
  },
  {
   "cell_type": "code",
   "execution_count": 6,
   "metadata": {},
   "outputs": [
    {
     "name": "stdout",
     "output_type": "stream",
     "text": [
      "Select a ROI and then press SPACE or ENTER button!\n",
      "Cancel the selection process by pressing c button!\n",
      "Select a ROI and then press SPACE or ENTER button!\n",
      "Cancel the selection process by pressing c button!\n",
      "Select a ROI and then press SPACE or ENTER button!\n",
      "Cancel the selection process by pressing c button!\n"
     ]
    }
   ],
   "source": [
    "# section_5\n",
    "!python finger_tracking.py --fps 120 --video_in \"data\\finger\\section_5\\sample_1.MOV\" --start_time \"12:51:19.730\"\n",
    "!python finger_tracking.py --fps 120 --video_in \"data\\finger\\section_5\\sample_2.MOV\" --start_time \"12:53:26.160\"\n",
    "!python finger_tracking.py --fps 120 --video_in \"data\\finger\\section_5\\sample_3.MOV\" --start_time \"12:55:08.980\""
   ]
  },
  {
   "cell_type": "code",
   "execution_count": 15,
   "metadata": {},
   "outputs": [
    {
     "name": "stdout",
     "output_type": "stream",
     "text": [
      "Select a ROI and then press SPACE or ENTER button!\n",
      "Cancel the selection process by pressing c button!\n",
      "Select a ROI and then press SPACE or ENTER button!\n",
      "Cancel the selection process by pressing c button!\n"
     ]
    }
   ],
   "source": [
    "# section_6\n",
    "!python finger_tracking.py --fps 120 --video_in \"data\\finger\\section_6\\sample_1.MOV\" --start_time \"12:57:57.159\"\n",
    "!python finger_tracking.py --fps 120 --video_in \"data\\finger\\section_6\\sample_2.MOV\" --start_time \"13:00:02.091\""
   ]
  }
 ],
 "metadata": {
  "kernelspec": {
   "display_name": "Python 3",
   "language": "python",
   "name": "python3"
  },
  "language_info": {
   "codemirror_mode": {
    "name": "ipython",
    "version": 3
   },
   "file_extension": ".py",
   "mimetype": "text/x-python",
   "name": "python",
   "nbconvert_exporter": "python",
   "pygments_lexer": "ipython3",
   "version": "3.12.0"
  }
 },
 "nbformat": 4,
 "nbformat_minor": 2
}
