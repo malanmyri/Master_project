{
 "cells": [
  {
   "cell_type": "markdown",
   "metadata": {},
   "source": [
    "### Labelling the data for the different squares"
   ]
  },
  {
   "cell_type": "code",
   "execution_count": 8,
   "metadata": {},
   "outputs": [
    {
     "name": "stderr",
     "output_type": "stream",
     "text": [
      "<>:3: SyntaxWarning: invalid escape sequence '\\s'\n",
      "<>:4: SyntaxWarning: invalid escape sequence '\\s'\n",
      "<>:12: SyntaxWarning: invalid escape sequence '\\s'\n",
      "<>:13: SyntaxWarning: invalid escape sequence '\\s'\n",
      "<>:3: SyntaxWarning: invalid escape sequence '\\s'\n",
      "<>:4: SyntaxWarning: invalid escape sequence '\\s'\n",
      "<>:12: SyntaxWarning: invalid escape sequence '\\s'\n",
      "<>:13: SyntaxWarning: invalid escape sequence '\\s'\n",
      "C:\\Users\\malan\\AppData\\Local\\Temp\\ipykernel_4664\\3474022107.py:3: SyntaxWarning: invalid escape sequence '\\s'\n",
      "  sensor_data_npz = \"data\\sensor\\section_1\\sample_1.npz\"\n",
      "C:\\Users\\malan\\AppData\\Local\\Temp\\ipykernel_4664\\3474022107.py:4: SyntaxWarning: invalid escape sequence '\\s'\n",
      "  export_path = \"raw\\section_1\\sample_1.pkl\"\n",
      "C:\\Users\\malan\\AppData\\Local\\Temp\\ipykernel_4664\\3474022107.py:12: SyntaxWarning: invalid escape sequence '\\s'\n",
      "  sensor_data_npz = \"data\\sensor\\section_1\\sample_2.npz\"\n",
      "C:\\Users\\malan\\AppData\\Local\\Temp\\ipykernel_4664\\3474022107.py:13: SyntaxWarning: invalid escape sequence '\\s'\n",
      "  export_path = \"raw\\section_1\\sample_2.pkl\"\n"
     ]
    }
   ],
   "source": [
    "# section 1, sample 1\n",
    "finger_position_csv = r\"data\\finger\\section_1\\sample_1_transformed_data.csv\"\n",
    "sensor_data_npz = \"data\\sensor\\section_1\\sample_1.npz\"\n",
    "export_path = \"raw\\section_1\\sample_1.pkl\"\n",
    "export_path_fig = r\"raw\\section_1\\sample_1.png\"\n",
    "command = f\"python labelling_sensor_data.py --sigma 4 --finger_position_csv {finger_position_csv} --sensor_data_npz {sensor_data_npz} --export_path {export_path} --export_path_fig {export_path_fig}\"\n",
    "!{command}\n",
    "\n",
    "\n",
    "# section 1, sample 2\n",
    "finger_position_csv = r\"data\\finger\\section_1\\sample_2_transformed_data.csv\"\n",
    "sensor_data_npz = \"data\\sensor\\section_1\\sample_2.npz\"\n",
    "export_path = \"raw\\section_1\\sample_2.pkl\"\n",
    "export_path_fig = r\"raw\\section_1\\sample_2.png\"\n",
    "command = f\"python labelling_sensor_data.py --sigma 4 --finger_position_csv {finger_position_csv} --sensor_data_npz {sensor_data_npz} --export_path {export_path} --export_path_fig {export_path_fig}\"\n",
    "!{command}\n"
   ]
  },
  {
   "cell_type": "code",
   "execution_count": 11,
   "metadata": {},
   "outputs": [
    {
     "name": "stderr",
     "output_type": "stream",
     "text": [
      "<>:3: SyntaxWarning: invalid escape sequence '\\s'\n",
      "<>:4: SyntaxWarning: invalid escape sequence '\\s'\n",
      "<>:12: SyntaxWarning: invalid escape sequence '\\s'\n",
      "<>:13: SyntaxWarning: invalid escape sequence '\\s'\n",
      "<>:3: SyntaxWarning: invalid escape sequence '\\s'\n",
      "<>:4: SyntaxWarning: invalid escape sequence '\\s'\n",
      "<>:12: SyntaxWarning: invalid escape sequence '\\s'\n",
      "<>:13: SyntaxWarning: invalid escape sequence '\\s'\n",
      "C:\\Users\\malan\\AppData\\Local\\Temp\\ipykernel_4664\\4138703528.py:3: SyntaxWarning: invalid escape sequence '\\s'\n",
      "  sensor_data_npz =      \"data\\sensor\\section_2\\sample_1.npz\"\n",
      "C:\\Users\\malan\\AppData\\Local\\Temp\\ipykernel_4664\\4138703528.py:4: SyntaxWarning: invalid escape sequence '\\s'\n",
      "  export_path =                  \"raw\\section_2\\sample_1.pkl\"\n",
      "C:\\Users\\malan\\AppData\\Local\\Temp\\ipykernel_4664\\4138703528.py:12: SyntaxWarning: invalid escape sequence '\\s'\n",
      "  sensor_data_npz =      \"data\\sensor\\section_2\\sample_2.npz\"\n",
      "C:\\Users\\malan\\AppData\\Local\\Temp\\ipykernel_4664\\4138703528.py:13: SyntaxWarning: invalid escape sequence '\\s'\n",
      "  export_path =                  \"raw\\section_2\\sample_2.pkl\"\n"
     ]
    }
   ],
   "source": [
    "# section 2, sample 1\n",
    "finger_position_csv = r\"data\\finger\\section_2\\sample_1_transformed_data.csv\"\n",
    "sensor_data_npz =      \"data\\sensor\\section_2\\sample_1.npz\"\n",
    "export_path =                  \"raw\\section_2\\sample_1.pkl\"\n",
    "export_path_fig =             r\"raw\\section_2\\sample_1.png\"\n",
    "command = f\"python labelling_sensor_data.py --sigma 4 --finger_position_csv {finger_position_csv} --sensor_data_npz {sensor_data_npz} --export_path {export_path} --export_path_fig {export_path_fig}\"\n",
    "!{command}\n",
    "\n",
    "\n",
    "# section 1, sample 2\n",
    "finger_position_csv = r\"data\\finger\\section_2\\sample_2_transformed_data.csv\"\n",
    "sensor_data_npz =      \"data\\sensor\\section_2\\sample_2.npz\"\n",
    "export_path =                  \"raw\\section_2\\sample_2.pkl\"\n",
    "export_path_fig =             r\"raw\\section_2\\sample_2.png\"\n",
    "command = f\"python labelling_sensor_data.py --sigma 4 --finger_position_csv {finger_position_csv} --sensor_data_npz {sensor_data_npz} --export_path {export_path} --export_path_fig {export_path_fig}\"\n",
    "!{command}"
   ]
  },
  {
   "cell_type": "code",
   "execution_count": 13,
   "metadata": {},
   "outputs": [
    {
     "name": "stderr",
     "output_type": "stream",
     "text": [
      "<>:3: SyntaxWarning: invalid escape sequence '\\s'\n",
      "<>:4: SyntaxWarning: invalid escape sequence '\\s'\n",
      "<>:12: SyntaxWarning: invalid escape sequence '\\s'\n",
      "<>:13: SyntaxWarning: invalid escape sequence '\\s'\n",
      "<>:3: SyntaxWarning: invalid escape sequence '\\s'\n",
      "<>:4: SyntaxWarning: invalid escape sequence '\\s'\n",
      "<>:12: SyntaxWarning: invalid escape sequence '\\s'\n",
      "<>:13: SyntaxWarning: invalid escape sequence '\\s'\n",
      "C:\\Users\\malan\\AppData\\Local\\Temp\\ipykernel_4664\\3010259634.py:3: SyntaxWarning: invalid escape sequence '\\s'\n",
      "  sensor_data_npz =      \"data\\sensor\\section_3\\sample_1.npz\"\n",
      "C:\\Users\\malan\\AppData\\Local\\Temp\\ipykernel_4664\\3010259634.py:4: SyntaxWarning: invalid escape sequence '\\s'\n",
      "  export_path =                  \"raw\\section_3\\sample_1.pkl\"\n",
      "C:\\Users\\malan\\AppData\\Local\\Temp\\ipykernel_4664\\3010259634.py:12: SyntaxWarning: invalid escape sequence '\\s'\n",
      "  sensor_data_npz =      \"data\\sensor\\section_3\\sample_2.npz\"\n",
      "C:\\Users\\malan\\AppData\\Local\\Temp\\ipykernel_4664\\3010259634.py:13: SyntaxWarning: invalid escape sequence '\\s'\n",
      "  export_path =                  \"raw\\section_3\\sample_2.pkl\"\n"
     ]
    }
   ],
   "source": [
    "# section 3, sample 1\n",
    "finger_position_csv = r\"data\\finger\\section_3\\sample_1_transformed_data.csv\"\n",
    "sensor_data_npz =      \"data\\sensor\\section_3\\sample_1.npz\"\n",
    "export_path =                  \"raw\\section_3\\sample_1.pkl\"\n",
    "export_path_fig =             r\"raw\\section_3\\sample_1.png\"\n",
    "command = f\"python labelling_sensor_data.py --sigma 4 --finger_position_csv {finger_position_csv} --sensor_data_npz {sensor_data_npz} --export_path {export_path} --export_path_fig {export_path_fig}\"\n",
    "!{command}\n",
    "\n",
    "\n",
    "# section 3, sample 2\n",
    "finger_position_csv = r\"data\\finger\\section_3\\sample_2_transformed_data.csv\"\n",
    "sensor_data_npz =      \"data\\sensor\\section_3\\sample_2.npz\"\n",
    "export_path =                  \"raw\\section_3\\sample_2.pkl\"\n",
    "export_path_fig =             r\"raw\\section_3\\sample_2.png\"\n",
    "command = f\"python labelling_sensor_data.py --sigma 4 --finger_position_csv {finger_position_csv} --sensor_data_npz {sensor_data_npz} --export_path {export_path} --export_path_fig {export_path_fig}\"\n",
    "!{command}"
   ]
  },
  {
   "cell_type": "code",
   "execution_count": 12,
   "metadata": {},
   "outputs": [
    {
     "name": "stderr",
     "output_type": "stream",
     "text": [
      "<>:12: SyntaxWarning: invalid escape sequence '\\s'\n",
      "<>:13: SyntaxWarning: invalid escape sequence '\\s'\n",
      "<>:12: SyntaxWarning: invalid escape sequence '\\s'\n",
      "<>:13: SyntaxWarning: invalid escape sequence '\\s'\n",
      "C:\\Users\\malan\\AppData\\Local\\Temp\\ipykernel_4664\\3010235147.py:12: SyntaxWarning: invalid escape sequence '\\s'\n",
      "  sensor_data_npz =      \"data\\sensor\\section_4\\sample_2.npz\"\n",
      "C:\\Users\\malan\\AppData\\Local\\Temp\\ipykernel_4664\\3010235147.py:13: SyntaxWarning: invalid escape sequence '\\s'\n",
      "  export_path =                  \"raw\\section_4\\sample_2.pkl\"\n"
     ]
    }
   ],
   "source": [
    "# section 4, sample 1\n",
    "#finger_position_csv = r\"data\\finger\\section_4\\sample_1_transformed_data.csv\"\n",
    "#sensor_data_npz =      \"data\\sensor\\section_4\\sample_1.npz\"\n",
    "#export_path =                  \"raw\\section_4\\sample_1.pkl\"\n",
    "#export_path_fig =             r\"raw\\section_4\\sample_1.png\"\n",
    "#command = f\"python labelling_sensor_data.py --sigma 4 --finger_position_csv {finger_position_csv} --sensor_data_npz {sensor_data_npz} --export_path {export_path} --export_path_fig {export_path_fig}\"\n",
    "#!{command}\n",
    "\n",
    "\n",
    "# section 4, sample 2\n",
    "finger_position_csv = r\"data\\finger\\section_4\\sample_2_transformed_data.csv\"\n",
    "sensor_data_npz =      \"data\\sensor\\section_4\\sample_2.npz\"\n",
    "export_path =                  \"raw\\section_4\\sample_2.pkl\"\n",
    "export_path_fig =             r\"raw\\section_4\\sample_2.png\"\n",
    "command = f\"python labelling_sensor_data.py --sigma 4 --finger_position_csv {finger_position_csv} --sensor_data_npz {sensor_data_npz} --export_path {export_path} --export_path_fig {export_path_fig}\"\n",
    "!{command}"
   ]
  },
  {
   "cell_type": "code",
   "execution_count": 10,
   "metadata": {},
   "outputs": [
    {
     "name": "stderr",
     "output_type": "stream",
     "text": [
      "<>:3: SyntaxWarning: invalid escape sequence '\\s'\n",
      "<>:4: SyntaxWarning: invalid escape sequence '\\s'\n",
      "<>:12: SyntaxWarning: invalid escape sequence '\\s'\n",
      "<>:13: SyntaxWarning: invalid escape sequence '\\s'\n",
      "<>:3: SyntaxWarning: invalid escape sequence '\\s'\n",
      "<>:4: SyntaxWarning: invalid escape sequence '\\s'\n",
      "<>:12: SyntaxWarning: invalid escape sequence '\\s'\n",
      "<>:13: SyntaxWarning: invalid escape sequence '\\s'\n",
      "C:\\Users\\malan\\AppData\\Local\\Temp\\ipykernel_4664\\3369361920.py:3: SyntaxWarning: invalid escape sequence '\\s'\n",
      "  sensor_data_npz =      \"data\\sensor\\section_5\\sample_2.npz\"\n",
      "C:\\Users\\malan\\AppData\\Local\\Temp\\ipykernel_4664\\3369361920.py:4: SyntaxWarning: invalid escape sequence '\\s'\n",
      "  export_path =                  \"raw\\section_5\\sample_2.pkl\"\n",
      "C:\\Users\\malan\\AppData\\Local\\Temp\\ipykernel_4664\\3369361920.py:12: SyntaxWarning: invalid escape sequence '\\s'\n",
      "  sensor_data_npz =      \"data\\sensor\\section_5\\sample_3.npz\"\n",
      "C:\\Users\\malan\\AppData\\Local\\Temp\\ipykernel_4664\\3369361920.py:13: SyntaxWarning: invalid escape sequence '\\s'\n",
      "  export_path =                  \"raw\\section_5\\sample_3.pkl\"\n"
     ]
    }
   ],
   "source": [
    "# section 5, sample 2\n",
    "finger_position_csv = r\"data\\finger\\section_5\\sample_2_transformed_data.csv\"\n",
    "sensor_data_npz =      \"data\\sensor\\section_5\\sample_2.npz\"\n",
    "export_path =                  \"raw\\section_5\\sample_2.pkl\"\n",
    "export_path_fig =             r\"raw\\section_5\\sample_2.png\"\n",
    "command = f\"python labelling_sensor_data.py --sigma 4 --finger_position_csv {finger_position_csv} --sensor_data_npz {sensor_data_npz} --export_path {export_path} --export_path_fig {export_path_fig}\"\n",
    "!{command}\n",
    "\n",
    "\n",
    "# section 5, sample 3\n",
    "finger_position_csv = r\"data\\finger\\section_5\\sample_3_transformed_data.csv\"\n",
    "sensor_data_npz =      \"data\\sensor\\section_5\\sample_3.npz\"\n",
    "export_path =                  \"raw\\section_5\\sample_3.pkl\"\n",
    "export_path_fig =             r\"raw\\section_5\\sample_3.png\"\n",
    "command = f\"python labelling_sensor_data.py --sigma 4 --finger_position_csv {finger_position_csv} --sensor_data_npz {sensor_data_npz} --export_path {export_path} --export_path_fig {export_path_fig}\"\n",
    "!{command}"
   ]
  },
  {
   "cell_type": "code",
   "execution_count": 14,
   "metadata": {},
   "outputs": [
    {
     "name": "stderr",
     "output_type": "stream",
     "text": [
      "<>:3: SyntaxWarning: invalid escape sequence '\\s'\n",
      "<>:4: SyntaxWarning: invalid escape sequence '\\s'\n",
      "<>:12: SyntaxWarning: invalid escape sequence '\\s'\n",
      "<>:13: SyntaxWarning: invalid escape sequence '\\s'\n",
      "<>:3: SyntaxWarning: invalid escape sequence '\\s'\n",
      "<>:4: SyntaxWarning: invalid escape sequence '\\s'\n",
      "<>:12: SyntaxWarning: invalid escape sequence '\\s'\n",
      "<>:13: SyntaxWarning: invalid escape sequence '\\s'\n",
      "C:\\Users\\malan\\AppData\\Local\\Temp\\ipykernel_4664\\3624330.py:3: SyntaxWarning: invalid escape sequence '\\s'\n",
      "  sensor_data_npz =      \"data\\sensor\\section_6\\sample_1.npz\"\n",
      "C:\\Users\\malan\\AppData\\Local\\Temp\\ipykernel_4664\\3624330.py:4: SyntaxWarning: invalid escape sequence '\\s'\n",
      "  export_path =                  \"raw\\section_6\\sample_1.pkl\"\n",
      "C:\\Users\\malan\\AppData\\Local\\Temp\\ipykernel_4664\\3624330.py:12: SyntaxWarning: invalid escape sequence '\\s'\n",
      "  sensor_data_npz =      \"data\\sensor\\section_6\\sample_2.npz\"\n",
      "C:\\Users\\malan\\AppData\\Local\\Temp\\ipykernel_4664\\3624330.py:13: SyntaxWarning: invalid escape sequence '\\s'\n",
      "  export_path =                  \"raw\\section_6\\sample_2.pkl\"\n"
     ]
    }
   ],
   "source": [
    "# section 6, sample 1\n",
    "finger_position_csv = r\"data\\finger\\section_6\\sample_1_transformed_data.csv\"\n",
    "sensor_data_npz =      \"data\\sensor\\section_6\\sample_1.npz\"\n",
    "export_path =                  \"raw\\section_6\\sample_1.pkl\"\n",
    "export_path_fig =             r\"raw\\section_6\\sample_1.png\"\n",
    "command = f\"python labelling_sensor_data.py --sigma 4 --finger_position_csv {finger_position_csv} --sensor_data_npz {sensor_data_npz} --export_path {export_path} --export_path_fig {export_path_fig}\"\n",
    "!{command}\n",
    "\n",
    "\n",
    "# section 6, sample 2\n",
    "finger_position_csv = r\"data\\finger\\section_6\\sample_2_transformed_data.csv\"\n",
    "sensor_data_npz =      \"data\\sensor\\section_6\\sample_2.npz\"\n",
    "export_path =                  \"raw\\section_6\\sample_2.pkl\"\n",
    "export_path_fig =             r\"raw\\section_6\\sample_2.png\"\n",
    "command = f\"python labelling_sensor_data.py --sigma 4 --finger_position_csv {finger_position_csv} --sensor_data_npz {sensor_data_npz} --export_path {export_path} --export_path_fig {export_path_fig}\"\n",
    "!{command}"
   ]
  }
 ],
 "metadata": {
  "kernelspec": {
   "display_name": "Python 3",
   "language": "python",
   "name": "python3"
  },
  "language_info": {
   "codemirror_mode": {
    "name": "ipython",
    "version": 3
   },
   "file_extension": ".py",
   "mimetype": "text/x-python",
   "name": "python",
   "nbconvert_exporter": "python",
   "pygments_lexer": "ipython3",
   "version": "3.12.0"
  }
 },
 "nbformat": 4,
 "nbformat_minor": 2
}
